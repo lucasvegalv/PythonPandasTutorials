{
 "cells": [
  {
   "cell_type": "markdown",
   "id": "34cc7503-d636-4fd2-94d0-4a2be39408eb",
   "metadata": {},
   "source": [
    "# Reading Files"
   ]
  },
  {
   "cell_type": "code",
   "execution_count": 8,
   "id": "5caff2bc-02f3-498a-a60d-f73c47cf3e6c",
   "metadata": {},
   "outputs": [],
   "source": [
    "import pandas"
   ]
  },
  {
   "cell_type": "markdown",
   "id": "6235845a-d5e4-4136-8afc-ce056885cc10",
   "metadata": {},
   "source": [
    "## CSV Files"
   ]
  },
  {
   "cell_type": "code",
   "execution_count": 16,
   "id": "b69efa02-5d27-4bfd-9662-c19996eb2c3e",
   "metadata": {},
   "outputs": [
    {
     "data": {
      "text/html": [
       "<div>\n",
       "<style scoped>\n",
       "    .dataframe tbody tr th:only-of-type {\n",
       "        vertical-align: middle;\n",
       "    }\n",
       "\n",
       "    .dataframe tbody tr th {\n",
       "        vertical-align: top;\n",
       "    }\n",
       "\n",
       "    .dataframe thead th {\n",
       "        text-align: right;\n",
       "    }\n",
       "</style>\n",
       "<table border=\"1\" class=\"dataframe\">\n",
       "  <thead>\n",
       "    <tr style=\"text-align: right;\">\n",
       "      <th></th>\n",
       "      <th>Country</th>\n",
       "      <th>Region</th>\n",
       "    </tr>\n",
       "  </thead>\n",
       "  <tbody>\n",
       "    <tr>\n",
       "      <th>0</th>\n",
       "      <td>Afghanistan</td>\n",
       "      <td>ASIA (EX. NEAR EAST)</td>\n",
       "    </tr>\n",
       "    <tr>\n",
       "      <th>1</th>\n",
       "      <td>Albania</td>\n",
       "      <td>EASTERN EUROPE</td>\n",
       "    </tr>\n",
       "    <tr>\n",
       "      <th>2</th>\n",
       "      <td>Algeria</td>\n",
       "      <td>NORTHERN AFRICA</td>\n",
       "    </tr>\n",
       "    <tr>\n",
       "      <th>3</th>\n",
       "      <td>American Samoa</td>\n",
       "      <td>OCEANIA</td>\n",
       "    </tr>\n",
       "    <tr>\n",
       "      <th>4</th>\n",
       "      <td>Andorra</td>\n",
       "      <td>WESTERN EUROPE</td>\n",
       "    </tr>\n",
       "    <tr>\n",
       "      <th>...</th>\n",
       "      <td>...</td>\n",
       "      <td>...</td>\n",
       "    </tr>\n",
       "    <tr>\n",
       "      <th>222</th>\n",
       "      <td>West Bank</td>\n",
       "      <td>NEAR EAST</td>\n",
       "    </tr>\n",
       "    <tr>\n",
       "      <th>223</th>\n",
       "      <td>Western Sahara</td>\n",
       "      <td>NORTHERN AFRICA</td>\n",
       "    </tr>\n",
       "    <tr>\n",
       "      <th>224</th>\n",
       "      <td>Yemen</td>\n",
       "      <td>NEAR EAST</td>\n",
       "    </tr>\n",
       "    <tr>\n",
       "      <th>225</th>\n",
       "      <td>Zambia</td>\n",
       "      <td>SUB-SAHARAN AFRICA</td>\n",
       "    </tr>\n",
       "    <tr>\n",
       "      <th>226</th>\n",
       "      <td>Zimbabwe</td>\n",
       "      <td>SUB-SAHARAN AFRICA</td>\n",
       "    </tr>\n",
       "  </tbody>\n",
       "</table>\n",
       "<p>227 rows × 2 columns</p>\n",
       "</div>"
      ],
      "text/plain": [
       "             Country                               Region\n",
       "0       Afghanistan         ASIA (EX. NEAR EAST)         \n",
       "1           Albania   EASTERN EUROPE                     \n",
       "2           Algeria   NORTHERN AFRICA                    \n",
       "3    American Samoa   OCEANIA                            \n",
       "4           Andorra   WESTERN EUROPE                     \n",
       "..               ...                                  ...\n",
       "222       West Bank   NEAR EAST                          \n",
       "223  Western Sahara   NORTHERN AFRICA                    \n",
       "224           Yemen   NEAR EAST                          \n",
       "225          Zambia   SUB-SAHARAN AFRICA                 \n",
       "226        Zimbabwe   SUB-SAHARAN AFRICA                 \n",
       "\n",
       "[227 rows x 2 columns]"
      ]
     },
     "execution_count": 16,
     "metadata": {},
     "output_type": "execute_result"
    }
   ],
   "source": [
    "df = pandas.read_csv(r\"C:\\Users\\USER\\Desktop\\PythonPandasTutorials\\PythonPandasTutorials\\Spreadsheets and Files\\countries of the world.csv\")\n",
    "df"
   ]
  },
  {
   "cell_type": "markdown",
   "id": "5002c614-1cdb-43cf-a891-c9e82dd96d9c",
   "metadata": {
    "tags": []
   },
   "source": [
    "## Text Files"
   ]
  },
  {
   "cell_type": "code",
   "execution_count": 17,
   "id": "4909e38e-6770-4a42-8d27-8b37a6773b15",
   "metadata": {},
   "outputs": [
    {
     "data": {
      "text/html": [
       "<div>\n",
       "<style scoped>\n",
       "    .dataframe tbody tr th:only-of-type {\n",
       "        vertical-align: middle;\n",
       "    }\n",
       "\n",
       "    .dataframe tbody tr th {\n",
       "        vertical-align: top;\n",
       "    }\n",
       "\n",
       "    .dataframe thead th {\n",
       "        text-align: right;\n",
       "    }\n",
       "</style>\n",
       "<table border=\"1\" class=\"dataframe\">\n",
       "  <thead>\n",
       "    <tr style=\"text-align: right;\">\n",
       "      <th></th>\n",
       "      <th>Country</th>\n",
       "      <th>Region</th>\n",
       "    </tr>\n",
       "  </thead>\n",
       "  <tbody>\n",
       "    <tr>\n",
       "      <th>0</th>\n",
       "      <td>Afghanistan</td>\n",
       "      <td>ASIA (EX. NEAR EAST)</td>\n",
       "    </tr>\n",
       "    <tr>\n",
       "      <th>1</th>\n",
       "      <td>Albania</td>\n",
       "      <td>EASTERN EUROPE</td>\n",
       "    </tr>\n",
       "    <tr>\n",
       "      <th>2</th>\n",
       "      <td>Algeria</td>\n",
       "      <td>NORTHERN AFRICA</td>\n",
       "    </tr>\n",
       "    <tr>\n",
       "      <th>3</th>\n",
       "      <td>American Samoa</td>\n",
       "      <td>OCEANIA</td>\n",
       "    </tr>\n",
       "    <tr>\n",
       "      <th>4</th>\n",
       "      <td>Andorra</td>\n",
       "      <td>WESTERN EUROPE</td>\n",
       "    </tr>\n",
       "    <tr>\n",
       "      <th>...</th>\n",
       "      <td>...</td>\n",
       "      <td>...</td>\n",
       "    </tr>\n",
       "    <tr>\n",
       "      <th>222</th>\n",
       "      <td>West Bank</td>\n",
       "      <td>NEAR EAST</td>\n",
       "    </tr>\n",
       "    <tr>\n",
       "      <th>223</th>\n",
       "      <td>Western Sahara</td>\n",
       "      <td>NORTHERN AFRICA</td>\n",
       "    </tr>\n",
       "    <tr>\n",
       "      <th>224</th>\n",
       "      <td>Yemen</td>\n",
       "      <td>NEAR EAST</td>\n",
       "    </tr>\n",
       "    <tr>\n",
       "      <th>225</th>\n",
       "      <td>Zambia</td>\n",
       "      <td>SUB-SAHARAN AFRICA</td>\n",
       "    </tr>\n",
       "    <tr>\n",
       "      <th>226</th>\n",
       "      <td>Zimbabwe</td>\n",
       "      <td>SUB-SAHARAN AFRICA</td>\n",
       "    </tr>\n",
       "  </tbody>\n",
       "</table>\n",
       "<p>227 rows × 2 columns</p>\n",
       "</div>"
      ],
      "text/plain": [
       "             Country                               Region\n",
       "0       Afghanistan         ASIA (EX. NEAR EAST)         \n",
       "1           Albania   EASTERN EUROPE                     \n",
       "2           Algeria   NORTHERN AFRICA                    \n",
       "3    American Samoa   OCEANIA                            \n",
       "4           Andorra   WESTERN EUROPE                     \n",
       "..               ...                                  ...\n",
       "222       West Bank   NEAR EAST                          \n",
       "223  Western Sahara   NORTHERN AFRICA                    \n",
       "224           Yemen   NEAR EAST                          \n",
       "225          Zambia   SUB-SAHARAN AFRICA                 \n",
       "226        Zimbabwe   SUB-SAHARAN AFRICA                 \n",
       "\n",
       "[227 rows x 2 columns]"
      ]
     },
     "execution_count": 17,
     "metadata": {},
     "output_type": "execute_result"
    }
   ],
   "source": [
    "text_file = pandas.read_table(r\"C:\\Users\\USER\\Desktop\\PythonTutorials\\PythonPandasTutorials\\Spreadsheets and Files\\countries of the world.txt\")\n",
    "text_file"
   ]
  },
  {
   "cell_type": "markdown",
   "id": "f8db5039-a1af-4f3b-8de2-37107355b56e",
   "metadata": {
    "tags": []
   },
   "source": [
    "## JSON Files"
   ]
  },
  {
   "cell_type": "code",
   "execution_count": 20,
   "id": "15b4e789-04ed-44b7-8990-8fd62b0348db",
   "metadata": {},
   "outputs": [
    {
     "data": {
      "text/html": [
       "<div>\n",
       "<style scoped>\n",
       "    .dataframe tbody tr th:only-of-type {\n",
       "        vertical-align: middle;\n",
       "    }\n",
       "\n",
       "    .dataframe tbody tr th {\n",
       "        vertical-align: top;\n",
       "    }\n",
       "\n",
       "    .dataframe thead th {\n",
       "        text-align: right;\n",
       "    }\n",
       "</style>\n",
       "<table border=\"1\" class=\"dataframe\">\n",
       "  <thead>\n",
       "    <tr style=\"text-align: right;\">\n",
       "      <th></th>\n",
       "      <th>12 Strong</th>\n",
       "      <th>A Fantastic Woman (Una Mujer Fantástica)</th>\n",
       "      <th>All The Money In The World</th>\n",
       "      <th>Bilal: A New Breed Of Hero</th>\n",
       "      <th>Call Me By Your Name</th>\n",
       "      <th>Darkest Hour</th>\n",
       "      <th>Den Of Thieves</th>\n",
       "      <th>Ferdinand</th>\n",
       "      <th>Fifty Shades Freed</th>\n",
       "      <th>Film Stars Don'T Die In Liverpool</th>\n",
       "      <th>...</th>\n",
       "      <th>The 15:17 To Paris</th>\n",
       "      <th>The Commuter</th>\n",
       "      <th>The Disaster Artist</th>\n",
       "      <th>The Greatest Showman</th>\n",
       "      <th>The Insult (L'Insulte)</th>\n",
       "      <th>The Post</th>\n",
       "      <th>The Shape Of Water</th>\n",
       "      <th>Three Billboards Outside Ebbing, Missouri</th>\n",
       "      <th>Till The End Of The World</th>\n",
       "      <th>Winchester</th>\n",
       "    </tr>\n",
       "  </thead>\n",
       "  <tbody>\n",
       "    <tr>\n",
       "      <th>0</th>\n",
       "      <td>{'Genre': 'Action', 'Gross': '$453,173', 'IMDB...</td>\n",
       "      <td>{'popcornscore': 83, 'rating': 'R', 'tomatosco...</td>\n",
       "      <td>{'popcornscore': 71, 'rating': 'R', 'tomatosco...</td>\n",
       "      <td>{'popcornscore': 91, 'rating': 'PG13', 'tomato...</td>\n",
       "      <td>{'popcornscore': 87, 'rating': 'R', 'tomatosco...</td>\n",
       "      <td>{'popcornscore': 84, 'rating': 'PG13', 'tomato...</td>\n",
       "      <td>{'Genre': 'Action', 'Gross': '$491,898', 'IMDB...</td>\n",
       "      <td>{'popcornscore': 49, 'rating': 'PG', 'tomatosc...</td>\n",
       "      <td>{'Genre': 'Drama', 'Gross': 'unknown', 'IMDB M...</td>\n",
       "      <td>{'popcornscore': 69, 'rating': 'R', 'tomatosco...</td>\n",
       "      <td>...</td>\n",
       "      <td>{'Genre': 'Drama', 'Gross': 'unknown', 'IMDB M...</td>\n",
       "      <td>{'popcornscore': 48, 'rating': 'PG13', 'tomato...</td>\n",
       "      <td>{'popcornscore': 89, 'rating': 'R', 'tomatosco...</td>\n",
       "      <td>{'Genre': 'Biography', 'Gross': '$627,248', 'I...</td>\n",
       "      <td>{'popcornscore': 86, 'rating': 'R', 'tomatosco...</td>\n",
       "      <td>{'Genre': 'Biography', 'Gross': '$463,228', 'I...</td>\n",
       "      <td>{'Genre': 'Adventure', 'Gross': '$448,287', 'I...</td>\n",
       "      <td>{'popcornscore': 87, 'rating': 'R', 'tomatosco...</td>\n",
       "      <td>{'popcornscore': -1, 'rating': 'NR', 'tomatosc...</td>\n",
       "      <td>{'Genre': 'Biography', 'Gross': '$696,786', 'I...</td>\n",
       "    </tr>\n",
       "  </tbody>\n",
       "</table>\n",
       "<p>1 rows × 38 columns</p>\n",
       "</div>"
      ],
      "text/plain": [
       "                                           12 Strong  \\\n",
       "0  {'Genre': 'Action', 'Gross': '$453,173', 'IMDB...   \n",
       "\n",
       "            A Fantastic Woman (Una Mujer Fantástica)  \\\n",
       "0  {'popcornscore': 83, 'rating': 'R', 'tomatosco...   \n",
       "\n",
       "                          All The Money In The World  \\\n",
       "0  {'popcornscore': 71, 'rating': 'R', 'tomatosco...   \n",
       "\n",
       "                          Bilal: A New Breed Of Hero  \\\n",
       "0  {'popcornscore': 91, 'rating': 'PG13', 'tomato...   \n",
       "\n",
       "                                Call Me By Your Name  \\\n",
       "0  {'popcornscore': 87, 'rating': 'R', 'tomatosco...   \n",
       "\n",
       "                                        Darkest Hour  \\\n",
       "0  {'popcornscore': 84, 'rating': 'PG13', 'tomato...   \n",
       "\n",
       "                                      Den Of Thieves  \\\n",
       "0  {'Genre': 'Action', 'Gross': '$491,898', 'IMDB...   \n",
       "\n",
       "                                           Ferdinand  \\\n",
       "0  {'popcornscore': 49, 'rating': 'PG', 'tomatosc...   \n",
       "\n",
       "                                  Fifty Shades Freed  \\\n",
       "0  {'Genre': 'Drama', 'Gross': 'unknown', 'IMDB M...   \n",
       "\n",
       "                   Film Stars Don'T Die In Liverpool  ...  \\\n",
       "0  {'popcornscore': 69, 'rating': 'R', 'tomatosco...  ...   \n",
       "\n",
       "                                  The 15:17 To Paris  \\\n",
       "0  {'Genre': 'Drama', 'Gross': 'unknown', 'IMDB M...   \n",
       "\n",
       "                                        The Commuter  \\\n",
       "0  {'popcornscore': 48, 'rating': 'PG13', 'tomato...   \n",
       "\n",
       "                                 The Disaster Artist  \\\n",
       "0  {'popcornscore': 89, 'rating': 'R', 'tomatosco...   \n",
       "\n",
       "                                The Greatest Showman  \\\n",
       "0  {'Genre': 'Biography', 'Gross': '$627,248', 'I...   \n",
       "\n",
       "                              The Insult (L'Insulte)  \\\n",
       "0  {'popcornscore': 86, 'rating': 'R', 'tomatosco...   \n",
       "\n",
       "                                            The Post  \\\n",
       "0  {'Genre': 'Biography', 'Gross': '$463,228', 'I...   \n",
       "\n",
       "                                  The Shape Of Water  \\\n",
       "0  {'Genre': 'Adventure', 'Gross': '$448,287', 'I...   \n",
       "\n",
       "           Three Billboards Outside Ebbing, Missouri  \\\n",
       "0  {'popcornscore': 87, 'rating': 'R', 'tomatosco...   \n",
       "\n",
       "                           Till The End Of The World  \\\n",
       "0  {'popcornscore': -1, 'rating': 'NR', 'tomatosc...   \n",
       "\n",
       "                                          Winchester  \n",
       "0  {'Genre': 'Biography', 'Gross': '$696,786', 'I...  \n",
       "\n",
       "[1 rows x 38 columns]"
      ]
     },
     "execution_count": 20,
     "metadata": {},
     "output_type": "execute_result"
    }
   ],
   "source": [
    "json_file = pandas.read_json(r\"C:\\Users\\USER\\Desktop\\PythonTutorials\\PythonPandasTutorials\\Spreadsheets and Files\\json_sample.json\")\n",
    "json_file"
   ]
  },
  {
   "cell_type": "code",
   "execution_count": null,
   "id": "17289776-804f-4e6b-ab10-c99f71c3f069",
   "metadata": {},
   "outputs": [],
   "source": []
  },
  {
   "cell_type": "markdown",
   "id": "7816b9a8-0d26-41f3-b22e-a178dc4d3ad4",
   "metadata": {
    "tags": []
   },
   "source": [
    "## Excel Files"
   ]
  },
  {
   "cell_type": "code",
   "execution_count": 21,
   "id": "18006128-6a69-43b8-a94a-1996e36edc0e",
   "metadata": {
    "tags": []
   },
   "outputs": [
    {
     "data": {
      "text/html": [
       "<div>\n",
       "<style scoped>\n",
       "    .dataframe tbody tr th:only-of-type {\n",
       "        vertical-align: middle;\n",
       "    }\n",
       "\n",
       "    .dataframe tbody tr th {\n",
       "        vertical-align: top;\n",
       "    }\n",
       "\n",
       "    .dataframe thead th {\n",
       "        text-align: right;\n",
       "    }\n",
       "</style>\n",
       "<table border=\"1\" class=\"dataframe\">\n",
       "  <thead>\n",
       "    <tr style=\"text-align: right;\">\n",
       "      <th></th>\n",
       "      <th>Rank</th>\n",
       "      <th>CCA3</th>\n",
       "      <th>Country</th>\n",
       "      <th>Capital</th>\n",
       "    </tr>\n",
       "  </thead>\n",
       "  <tbody>\n",
       "    <tr>\n",
       "      <th>0</th>\n",
       "      <td>36</td>\n",
       "      <td>AFG</td>\n",
       "      <td>Afghanistan</td>\n",
       "      <td>Kabul</td>\n",
       "    </tr>\n",
       "    <tr>\n",
       "      <th>1</th>\n",
       "      <td>138</td>\n",
       "      <td>ALB</td>\n",
       "      <td>Albania</td>\n",
       "      <td>Tirana</td>\n",
       "    </tr>\n",
       "    <tr>\n",
       "      <th>2</th>\n",
       "      <td>34</td>\n",
       "      <td>DZA</td>\n",
       "      <td>Algeria</td>\n",
       "      <td>Algiers</td>\n",
       "    </tr>\n",
       "    <tr>\n",
       "      <th>3</th>\n",
       "      <td>213</td>\n",
       "      <td>ASM</td>\n",
       "      <td>American Samoa</td>\n",
       "      <td>Pago Pago</td>\n",
       "    </tr>\n",
       "    <tr>\n",
       "      <th>4</th>\n",
       "      <td>203</td>\n",
       "      <td>AND</td>\n",
       "      <td>Andorra</td>\n",
       "      <td>Andorra la Vella</td>\n",
       "    </tr>\n",
       "    <tr>\n",
       "      <th>...</th>\n",
       "      <td>...</td>\n",
       "      <td>...</td>\n",
       "      <td>...</td>\n",
       "      <td>...</td>\n",
       "    </tr>\n",
       "    <tr>\n",
       "      <th>229</th>\n",
       "      <td>226</td>\n",
       "      <td>WLF</td>\n",
       "      <td>Wallis and Futuna</td>\n",
       "      <td>Mata-Utu</td>\n",
       "    </tr>\n",
       "    <tr>\n",
       "      <th>230</th>\n",
       "      <td>172</td>\n",
       "      <td>ESH</td>\n",
       "      <td>Western Sahara</td>\n",
       "      <td>El AaiÃºn</td>\n",
       "    </tr>\n",
       "    <tr>\n",
       "      <th>231</th>\n",
       "      <td>46</td>\n",
       "      <td>YEM</td>\n",
       "      <td>Yemen</td>\n",
       "      <td>Sanaa</td>\n",
       "    </tr>\n",
       "    <tr>\n",
       "      <th>232</th>\n",
       "      <td>63</td>\n",
       "      <td>ZMB</td>\n",
       "      <td>Zambia</td>\n",
       "      <td>Lusaka</td>\n",
       "    </tr>\n",
       "    <tr>\n",
       "      <th>233</th>\n",
       "      <td>74</td>\n",
       "      <td>ZWE</td>\n",
       "      <td>Zimbabwe</td>\n",
       "      <td>Harare</td>\n",
       "    </tr>\n",
       "  </tbody>\n",
       "</table>\n",
       "<p>234 rows × 4 columns</p>\n",
       "</div>"
      ],
      "text/plain": [
       "     Rank CCA3            Country           Capital\n",
       "0      36  AFG        Afghanistan             Kabul\n",
       "1     138  ALB            Albania            Tirana\n",
       "2      34  DZA            Algeria           Algiers\n",
       "3     213  ASM     American Samoa         Pago Pago\n",
       "4     203  AND            Andorra  Andorra la Vella\n",
       "..    ...  ...                ...               ...\n",
       "229   226  WLF  Wallis and Futuna          Mata-Utu\n",
       "230   172  ESH     Western Sahara         El AaiÃºn\n",
       "231    46  YEM              Yemen             Sanaa\n",
       "232    63  ZMB             Zambia            Lusaka\n",
       "233    74  ZWE           Zimbabwe            Harare\n",
       "\n",
       "[234 rows x 4 columns]"
      ]
     },
     "execution_count": 21,
     "metadata": {},
     "output_type": "execute_result"
    }
   ],
   "source": [
    "excel_file = pandas.read_excel(r\"C:\\Users\\USER\\Desktop\\PythonTutorials\\PythonPandasTutorials\\Spreadsheets and Files\\world_population_excel_workbook.xlsx\", sheet_name = 'Sheet1')\n",
    "# We specified the sheet's name because \"read_excel()\" return the first sheet by default. In this case we want another, so we write the parameter \"sheet_name\".\n",
    "\n",
    "excel_file"
   ]
  },
  {
   "cell_type": "markdown",
   "id": "2cdf33ff-549e-4cb5-846b-a92d64d9d7aa",
   "metadata": {
    "tags": []
   },
   "source": [
    "## Some methods"
   ]
  },
  {
   "cell_type": "code",
   "execution_count": 22,
   "id": "ab3e8c07-da6f-45e1-bb71-ab4933c80584",
   "metadata": {
    "tags": []
   },
   "outputs": [
    {
     "name": "stdout",
     "output_type": "stream",
     "text": [
      "<class 'pandas.core.frame.DataFrame'>\n",
      "RangeIndex: 234 entries, 0 to 233\n",
      "Data columns (total 4 columns):\n",
      " #   Column   Non-Null Count  Dtype \n",
      "---  ------   --------------  ----- \n",
      " 0   Rank     234 non-null    int64 \n",
      " 1   CCA3     234 non-null    object\n",
      " 2   Country  234 non-null    object\n",
      " 3   Capital  234 non-null    object\n",
      "dtypes: int64(1), object(3)\n",
      "memory usage: 7.4+ KB\n"
     ]
    }
   ],
   "source": [
    "excel_file.info()"
   ]
  },
  {
   "cell_type": "code",
   "execution_count": 23,
   "id": "54bbb78e-a433-4e86-98d2-d679af724159",
   "metadata": {
    "tags": []
   },
   "outputs": [
    {
     "data": {
      "text/plain": [
       "(234, 4)"
      ]
     },
     "execution_count": 23,
     "metadata": {},
     "output_type": "execute_result"
    }
   ],
   "source": [
    "excel_file.shape"
   ]
  },
  {
   "cell_type": "code",
   "execution_count": 26,
   "id": "ec673e31-1737-40c7-9f94-930a286e3d58",
   "metadata": {
    "tags": []
   },
   "outputs": [
    {
     "data": {
      "text/html": [
       "<div>\n",
       "<style scoped>\n",
       "    .dataframe tbody tr th:only-of-type {\n",
       "        vertical-align: middle;\n",
       "    }\n",
       "\n",
       "    .dataframe tbody tr th {\n",
       "        vertical-align: top;\n",
       "    }\n",
       "\n",
       "    .dataframe thead th {\n",
       "        text-align: right;\n",
       "    }\n",
       "</style>\n",
       "<table border=\"1\" class=\"dataframe\">\n",
       "  <thead>\n",
       "    <tr style=\"text-align: right;\">\n",
       "      <th></th>\n",
       "      <th>Rank</th>\n",
       "      <th>CCA3</th>\n",
       "      <th>Country</th>\n",
       "      <th>Capital</th>\n",
       "    </tr>\n",
       "  </thead>\n",
       "  <tbody>\n",
       "    <tr>\n",
       "      <th>0</th>\n",
       "      <td>36</td>\n",
       "      <td>AFG</td>\n",
       "      <td>Afghanistan</td>\n",
       "      <td>Kabul</td>\n",
       "    </tr>\n",
       "    <tr>\n",
       "      <th>1</th>\n",
       "      <td>138</td>\n",
       "      <td>ALB</td>\n",
       "      <td>Albania</td>\n",
       "      <td>Tirana</td>\n",
       "    </tr>\n",
       "    <tr>\n",
       "      <th>2</th>\n",
       "      <td>34</td>\n",
       "      <td>DZA</td>\n",
       "      <td>Algeria</td>\n",
       "      <td>Algiers</td>\n",
       "    </tr>\n",
       "    <tr>\n",
       "      <th>3</th>\n",
       "      <td>213</td>\n",
       "      <td>ASM</td>\n",
       "      <td>American Samoa</td>\n",
       "      <td>Pago Pago</td>\n",
       "    </tr>\n",
       "    <tr>\n",
       "      <th>4</th>\n",
       "      <td>203</td>\n",
       "      <td>AND</td>\n",
       "      <td>Andorra</td>\n",
       "      <td>Andorra la Vella</td>\n",
       "    </tr>\n",
       "  </tbody>\n",
       "</table>\n",
       "</div>"
      ],
      "text/plain": [
       "   Rank CCA3         Country           Capital\n",
       "0    36  AFG     Afghanistan             Kabul\n",
       "1   138  ALB         Albania            Tirana\n",
       "2    34  DZA         Algeria           Algiers\n",
       "3   213  ASM  American Samoa         Pago Pago\n",
       "4   203  AND         Andorra  Andorra la Vella"
      ]
     },
     "execution_count": 26,
     "metadata": {},
     "output_type": "execute_result"
    }
   ],
   "source": [
    "excel_file.head(5)"
   ]
  },
  {
   "cell_type": "code",
   "execution_count": 27,
   "id": "96e3e4f5-9205-4954-9e9d-193a3b409bf2",
   "metadata": {
    "tags": []
   },
   "outputs": [
    {
     "data": {
      "text/html": [
       "<div>\n",
       "<style scoped>\n",
       "    .dataframe tbody tr th:only-of-type {\n",
       "        vertical-align: middle;\n",
       "    }\n",
       "\n",
       "    .dataframe tbody tr th {\n",
       "        vertical-align: top;\n",
       "    }\n",
       "\n",
       "    .dataframe thead th {\n",
       "        text-align: right;\n",
       "    }\n",
       "</style>\n",
       "<table border=\"1\" class=\"dataframe\">\n",
       "  <thead>\n",
       "    <tr style=\"text-align: right;\">\n",
       "      <th></th>\n",
       "      <th>Rank</th>\n",
       "      <th>CCA3</th>\n",
       "      <th>Country</th>\n",
       "      <th>Capital</th>\n",
       "    </tr>\n",
       "  </thead>\n",
       "  <tbody>\n",
       "    <tr>\n",
       "      <th>229</th>\n",
       "      <td>226</td>\n",
       "      <td>WLF</td>\n",
       "      <td>Wallis and Futuna</td>\n",
       "      <td>Mata-Utu</td>\n",
       "    </tr>\n",
       "    <tr>\n",
       "      <th>230</th>\n",
       "      <td>172</td>\n",
       "      <td>ESH</td>\n",
       "      <td>Western Sahara</td>\n",
       "      <td>El AaiÃºn</td>\n",
       "    </tr>\n",
       "    <tr>\n",
       "      <th>231</th>\n",
       "      <td>46</td>\n",
       "      <td>YEM</td>\n",
       "      <td>Yemen</td>\n",
       "      <td>Sanaa</td>\n",
       "    </tr>\n",
       "    <tr>\n",
       "      <th>232</th>\n",
       "      <td>63</td>\n",
       "      <td>ZMB</td>\n",
       "      <td>Zambia</td>\n",
       "      <td>Lusaka</td>\n",
       "    </tr>\n",
       "    <tr>\n",
       "      <th>233</th>\n",
       "      <td>74</td>\n",
       "      <td>ZWE</td>\n",
       "      <td>Zimbabwe</td>\n",
       "      <td>Harare</td>\n",
       "    </tr>\n",
       "  </tbody>\n",
       "</table>\n",
       "</div>"
      ],
      "text/plain": [
       "     Rank CCA3            Country    Capital\n",
       "229   226  WLF  Wallis and Futuna   Mata-Utu\n",
       "230   172  ESH     Western Sahara  El AaiÃºn\n",
       "231    46  YEM              Yemen      Sanaa\n",
       "232    63  ZMB             Zambia     Lusaka\n",
       "233    74  ZWE           Zimbabwe     Harare"
      ]
     },
     "execution_count": 27,
     "metadata": {},
     "output_type": "execute_result"
    }
   ],
   "source": [
    "excel_file.tail(5)"
   ]
  },
  {
   "cell_type": "code",
   "execution_count": 32,
   "id": "32a86fa6-6133-4927-9779-a785e3d6e24c",
   "metadata": {
    "tags": []
   },
   "outputs": [
    {
     "data": {
      "text/plain": [
       "0       Afghanistan\n",
       "1           Albania\n",
       "2           Algeria\n",
       "3    American Samoa\n",
       "4           Andorra\n",
       "Name: Country, dtype: object"
      ]
     },
     "execution_count": 32,
     "metadata": {},
     "output_type": "execute_result"
    }
   ],
   "source": [
    "excel_file['Country'].head(5)"
   ]
  },
  {
   "cell_type": "code",
   "execution_count": null,
   "id": "ccd9b49b-baff-49df-aecc-a2d63d787889",
   "metadata": {},
   "outputs": [],
   "source": []
  }
 ],
 "metadata": {
  "kernelspec": {
   "display_name": "Python 3 (ipykernel)",
   "language": "python",
   "name": "python3"
  },
  "language_info": {
   "codemirror_mode": {
    "name": "ipython",
    "version": 3
   },
   "file_extension": ".py",
   "mimetype": "text/x-python",
   "name": "python",
   "nbconvert_exporter": "python",
   "pygments_lexer": "ipython3",
   "version": "3.11.4"
  }
 },
 "nbformat": 4,
 "nbformat_minor": 5
}
